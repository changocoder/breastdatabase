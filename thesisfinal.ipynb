{
 "cells": [
  {
   "cell_type": "code",
   "execution_count": 1,
   "metadata": {},
   "outputs": [],
   "source": [
    "import numpy as np # linear algebra\n",
    "import pandas as pd # data processing, CSV file I/O (e.g. pd.read_csv)\n",
    "import matplotlib.pyplot as plt # showing and rendering figures\n",
    "# io related\n",
    "from skimage.io import imread\n",
    "import os\n",
    "from glob import glob\n",
    "import h5py\n",
    "# not needed in Kaggle, but required in Jupyter\n",
    "%matplotlib inline"
   ]
  },
  {
   "cell_type": "code",
   "execution_count": 2,
   "metadata": {},
   "outputs": [
    {
     "data": {
      "text/html": [
       "<div>\n",
       "<style scoped>\n",
       "    .dataframe tbody tr th:only-of-type {\n",
       "        vertical-align: middle;\n",
       "    }\n",
       "\n",
       "    .dataframe tbody tr th {\n",
       "        vertical-align: top;\n",
       "    }\n",
       "\n",
       "    .dataframe thead th {\n",
       "        text-align: right;\n",
       "    }\n",
       "</style>\n",
       "<table border=\"1\" class=\"dataframe\">\n",
       "  <thead>\n",
       "    <tr style=\"text-align: right;\">\n",
       "      <th></th>\n",
       "      <th>BG</th>\n",
       "      <th>CLASS</th>\n",
       "      <th>RADIUS</th>\n",
       "      <th>REFNUM</th>\n",
       "      <th>SEVERITY</th>\n",
       "      <th>X</th>\n",
       "      <th>Y</th>\n",
       "      <th>path</th>\n",
       "      <th>scan</th>\n",
       "    </tr>\n",
       "  </thead>\n",
       "  <tbody>\n",
       "    <tr>\n",
       "      <th>300</th>\n",
       "      <td>F</td>\n",
       "      <td>NORM</td>\n",
       "      <td>NaN</td>\n",
       "      <td>mdb293</td>\n",
       "      <td>nan</td>\n",
       "      <td>NaN</td>\n",
       "      <td>NaN</td>\n",
       "      <td>mdb293.pgm</td>\n",
       "      <td>tiffs/mdb293.tif</td>\n",
       "    </tr>\n",
       "    <tr>\n",
       "      <th>20</th>\n",
       "      <td>G</td>\n",
       "      <td>NORM</td>\n",
       "      <td>NaN</td>\n",
       "      <td>mdb020</td>\n",
       "      <td>nan</td>\n",
       "      <td>NaN</td>\n",
       "      <td>NaN</td>\n",
       "      <td>mdb020.pgm</td>\n",
       "      <td>tiffs/mdb020.tif</td>\n",
       "    </tr>\n",
       "    <tr>\n",
       "      <th>119</th>\n",
       "      <td>G</td>\n",
       "      <td>NORM</td>\n",
       "      <td>NaN</td>\n",
       "      <td>mdb119</td>\n",
       "      <td>nan</td>\n",
       "      <td>NaN</td>\n",
       "      <td>NaN</td>\n",
       "      <td>mdb119.pgm</td>\n",
       "      <td>tiffs/mdb119.tif</td>\n",
       "    </tr>\n",
       "    <tr>\n",
       "      <th>186</th>\n",
       "      <td>F</td>\n",
       "      <td>SPIC</td>\n",
       "      <td>114.0</td>\n",
       "      <td>mdb184</td>\n",
       "      <td>M</td>\n",
       "      <td>352.0</td>\n",
       "      <td>624.0</td>\n",
       "      <td>mdb184.pgm</td>\n",
       "      <td>tiffs/mdb184.tif</td>\n",
       "    </tr>\n",
       "    <tr>\n",
       "      <th>143</th>\n",
       "      <td>F</td>\n",
       "      <td>CIRC</td>\n",
       "      <td>26.0</td>\n",
       "      <td>mdb142</td>\n",
       "      <td>B</td>\n",
       "      <td>347.0</td>\n",
       "      <td>636.0</td>\n",
       "      <td>mdb142.pgm</td>\n",
       "      <td>tiffs/mdb142.tif</td>\n",
       "    </tr>\n",
       "  </tbody>\n",
       "</table>\n",
       "</div>"
      ],
      "text/plain": [
       "    BG CLASS  RADIUS  REFNUM SEVERITY      X      Y        path  \\\n",
       "300  F  NORM     NaN  mdb293      nan    NaN    NaN  mdb293.pgm   \n",
       "20   G  NORM     NaN  mdb020      nan    NaN    NaN  mdb020.pgm   \n",
       "119  G  NORM     NaN  mdb119      nan    NaN    NaN  mdb119.pgm   \n",
       "186  F  SPIC   114.0  mdb184        M  352.0  624.0  mdb184.pgm   \n",
       "143  F  CIRC    26.0  mdb142        B  347.0  636.0  mdb142.pgm   \n",
       "\n",
       "                 scan  \n",
       "300  tiffs/mdb293.tif  \n",
       "20   tiffs/mdb020.tif  \n",
       "119  tiffs/mdb119.tif  \n",
       "186  tiffs/mdb184.tif  \n",
       "143  tiffs/mdb142.tif  "
      ]
     },
     "execution_count": 2,
     "metadata": {},
     "output_type": "execute_result"
    }
   ],
   "source": [
    "base_h5 = os.path.join('all_mias_scans.h5')\n",
    "tif_dir = 'tiffs'\n",
    "os.makedirs(tif_dir, exist_ok=True)\n",
    "with h5py.File(base_h5, 'r') as f:\n",
    "    mammo_df = pd.DataFrame(\n",
    "        {k: v.value if len(v.shape)==1 else [sub_v for sub_v in v] \n",
    "         for k,v in f.items()}\n",
    "    )\n",
    "for k in mammo_df.columns:\n",
    "    if isinstance(mammo_df[k].values[0], bytes):\n",
    "        mammo_df[k] = mammo_df[k].map(lambda x: x.decode())\n",
    "# save data to disk\n",
    "from skimage.io import imsave\n",
    "def to_path(c_row):\n",
    "    out_path = os.path.join(tif_dir, '%s.tif' % c_row['REFNUM'])\n",
    "    imsave(out_path, c_row['scan'])\n",
    "    return out_path\n",
    "mammo_df['scan'] = mammo_df.apply(to_path,1)\n",
    "mammo_df.sample(5)"
   ]
  },
  {
   "cell_type": "code",
   "execution_count": 4,
   "metadata": {},
   "outputs": [
    {
     "data": {
      "text/plain": [
       "array([[<matplotlib.axes._subplots.AxesSubplot object at 0x7fc069177828>,\n",
       "        <matplotlib.axes._subplots.AxesSubplot object at 0x7fc069141710>]],\n",
       "      dtype=object)"
      ]
     },
     "execution_count": 4,
     "metadata": {},
     "output_type": "execute_result"
    },
    {
     "data": {
      "image/png": "[encoded data removed]",
      "text/plain": [
       "<Figure size 720x360 with 2 Axes>"
      ]
     },
     "metadata": {},
     "output_type": "display_data"
    }
   ],
   "source": [
    "from sklearn.preprocessing import LabelEncoder\n",
    "from keras.utils.np_utils import to_categorical\n",
    "class_enc = LabelEncoder()\n",
    "mammo_df['CLASS_ID'] = class_enc.fit_transform(mammo_df['CLASS'])\n",
    "mammo_df['CLASS_VEC'] = mammo_df['CLASS_ID'].map(lambda x: to_categorical(x, \n",
    "                                                                          num_classes=len(class_enc.classes_)))\n",
    "mammo_df[['CLASS_ID', 'RADIUS', 'SEVERITY']].hist(figsize = (10, 5))"
   ]
  },
  {
   "cell_type": "code",
   "execution_count": 5,
   "metadata": {},
   "outputs": [
    {
     "name": "stdout",
     "output_type": "stream",
     "text": [
      "train 247 validation 83\n"
     ]
    },
    {
     "data": {
      "text/html": [
       "<div>\n",
       "<style scoped>\n",
       "    .dataframe tbody tr th:only-of-type {\n",
       "        vertical-align: middle;\n",
       "    }\n",
       "\n",
       "    .dataframe tbody tr th {\n",
       "        vertical-align: top;\n",
       "    }\n",
       "\n",
       "    .dataframe thead th {\n",
       "        text-align: right;\n",
       "    }\n",
       "</style>\n",
       "<table border=\"1\" class=\"dataframe\">\n",
       "  <thead>\n",
       "    <tr style=\"text-align: right;\">\n",
       "      <th></th>\n",
       "      <th>BG</th>\n",
       "      <th>CLASS</th>\n",
       "      <th>RADIUS</th>\n",
       "      <th>REFNUM</th>\n",
       "      <th>SEVERITY</th>\n",
       "      <th>X</th>\n",
       "      <th>Y</th>\n",
       "      <th>path</th>\n",
       "      <th>scan</th>\n",
       "      <th>CLASS_ID</th>\n",
       "      <th>CLASS_VEC</th>\n",
       "    </tr>\n",
       "  </thead>\n",
       "  <tbody>\n",
       "    <tr>\n",
       "      <th>14</th>\n",
       "      <td>G</td>\n",
       "      <td>NORM</td>\n",
       "      <td>NaN</td>\n",
       "      <td>mdb014</td>\n",
       "      <td>nan</td>\n",
       "      <td>NaN</td>\n",
       "      <td>NaN</td>\n",
       "      <td>mdb014.pgm</td>\n",
       "      <td>tiffs/mdb014.tif</td>\n",
       "      <td>5</td>\n",
       "      <td>[0.0, 0.0, 0.0, 0.0, 0.0, 1.0, 0.0]</td>\n",
       "    </tr>\n",
       "  </tbody>\n",
       "</table>\n",
       "</div>"
      ],
      "text/plain": [
       "   BG CLASS  RADIUS  REFNUM SEVERITY   X   Y        path              scan  \\\n",
       "14  G  NORM     NaN  mdb014      nan NaN NaN  mdb014.pgm  tiffs/mdb014.tif   \n",
       "\n",
       "    CLASS_ID                            CLASS_VEC  \n",
       "14         5  [0.0, 0.0, 0.0, 0.0, 0.0, 1.0, 0.0]  "
      ]
     },
     "execution_count": 5,
     "metadata": {},
     "output_type": "execute_result"
    }
   ],
   "source": [
    "from sklearn.model_selection import train_test_split\n",
    "raw_train_df, valid_df = train_test_split(mammo_df, \n",
    "                                   test_size = 0.25, \n",
    "                                   random_state = 2018,\n",
    "                                   stratify = mammo_df[['CLASS_ID', 'SEVERITY']])\n",
    "print('train', raw_train_df.shape[0], 'validation', valid_df.shape[0])\n",
    "raw_train_df.sample(1)\n"
   ]
  },
  {
   "cell_type": "code",
   "execution_count": 6,
   "metadata": {},
   "outputs": [
    {
     "name": "stdout",
     "output_type": "stream",
     "text": [
      "New Data Size: 1300 Old Size: 247\n"
     ]
    },
    {
     "data": {
      "text/plain": [
       "array([[<matplotlib.axes._subplots.AxesSubplot object at 0x7fc06908f358>,\n",
       "        <matplotlib.axes._subplots.AxesSubplot object at 0x7fc0686fb160>]],\n",
       "      dtype=object)"
      ]
     },
     "execution_count": 6,
     "metadata": {},
     "output_type": "execute_result"
    },
    {
     "data": {
      "image/png": "[encoded data removed]",
      "text/plain": [
       "<Figure size 720x360 with 2 Axes>"
      ]
     },
     "metadata": {},
     "output_type": "display_data"
    }
   ],
   "source": [
    "train_df = raw_train_df.groupby(['CLASS', 'SEVERITY']).apply(lambda x: x.sample(100, replace = True)\n",
    "                                                      ).reset_index(drop = True)\n",
    "print('New Data Size:', train_df.shape[0], 'Old Size:', raw_train_df.shape[0])\n",
    "train_df[['CLASS_ID', 'RADIUS']].hist(figsize = (10, 5))"
   ]
  },
  {
   "cell_type": "code",
   "execution_count": 7,
   "metadata": {},
   "outputs": [],
   "source": [
    "from keras.preprocessing.image import ImageDataGenerator\n",
    "from keras.applications.imagenet_utils import preprocess_input\n",
    "IMG_SIZE = (224, 224) # slightly smaller than vgg16 normally expects\n",
    "core_idg = ImageDataGenerator(samplewise_center=False, \n",
    "                              samplewise_std_normalization=False, \n",
    "                              horizontal_flip = True, \n",
    "                              vertical_flip = False, \n",
    "                              height_shift_range = 0.15, \n",
    "                              width_shift_range = 0.15, \n",
    "                              rotation_range = 5, \n",
    "                              shear_range = 0.01,\n",
    "                              fill_mode = 'nearest',\n",
    "                              zoom_range=0.2,\n",
    "                             preprocessing_function = preprocess_input)"
   ]
  },
  {
   "cell_type": "code",
   "execution_count": 8,
   "metadata": {},
   "outputs": [],
   "source": [
    "def flow_from_dataframe(img_data_gen, in_df, path_col, y_col, **dflow_args):\n",
    "    base_dir = os.path.dirname(in_df[path_col].values[0])\n",
    "    print('## Ignore next message from keras, values are replaced anyways')\n",
    "    df_gen = img_data_gen.flow_from_directory(base_dir, \n",
    "                                     class_mode = 'sparse',\n",
    "                                    **dflow_args)\n",
    "    df_gen.filenames = in_df[path_col].values\n",
    "    df_gen.classes = np.stack(in_df[y_col].values)\n",
    "    df_gen.samples = in_df.shape[0]\n",
    "    df_gen.n = in_df.shape[0]\n",
    "    df_gen._set_index_array()\n",
    "    df_gen.directory = '' # since we have the full path\n",
    "    print('Reinserting dataframe: {} images'.format(in_df.shape[0]))\n",
    "    return df_gen"
   ]
  },
  {
   "cell_type": "code",
   "execution_count": 9,
   "metadata": {},
   "outputs": [
    {
     "name": "stdout",
     "output_type": "stream",
     "text": [
      "## Ignore next message from keras, values are replaced anyways\n",
      "Found 0 images belonging to 0 classes.\n",
      "Reinserting dataframe: 1300 images\n",
      "## Ignore next message from keras, values are replaced anyways\n",
      "Found 0 images belonging to 0 classes.\n",
      "Reinserting dataframe: 83 images\n",
      "## Ignore next message from keras, values are replaced anyways\n",
      "Found 0 images belonging to 0 classes.\n",
      "Reinserting dataframe: 83 images\n"
     ]
    }
   ],
   "source": [
    "train_gen = flow_from_dataframe(core_idg, train_df, \n",
    "                             path_col = 'scan',\n",
    "                            y_col = 'CLASS_VEC', \n",
    "                            target_size = IMG_SIZE,\n",
    "                             color_mode = 'rgb',\n",
    "                            batch_size = 32)\n",
    "\n",
    "valid_gen = flow_from_dataframe(core_idg, valid_df, \n",
    "                             path_col = 'scan',\n",
    "                            y_col = 'CLASS_VEC', \n",
    "                            target_size = IMG_SIZE,\n",
    "                             color_mode = 'rgb',\n",
    "                            batch_size = 256) # we can use much larger batches for evaluation\n",
    "# used a fixed dataset for evaluating the algorithm\n",
    "test_X, test_Y = next(flow_from_dataframe(core_idg, \n",
    "                               valid_df, \n",
    "                             path_col = 'scan',\n",
    "                            y_col = 'CLASS_VEC', \n",
    "                            target_size = IMG_SIZE,\n",
    "                             color_mode = 'rgb',\n",
    "                            batch_size = 1024)) # one big batch"
   ]
  },
  {
   "cell_type": "code",
   "execution_count": 10,
   "metadata": {},
   "outputs": [
    {
     "name": "stdout",
     "output_type": "stream",
     "text": [
      "Downloading data from https://github.com/fchollet/deep-learning-models/releases/download/v0.1/vgg16_weights_tf_dim_ordering_tf_kernels_notop.h5\n",
      "58892288/58889256 [==============================] - 3s 0us/step\n",
      "_________________________________________________________________\n",
      "Layer (type)                 Output Shape              Param #   \n",
      "=================================================================\n",
      "input_1 (InputLayer)         (None, None, None, 3)     0         \n",
      "_________________________________________________________________\n",
      "block1_conv1 (Conv2D)        (None, None, None, 64)    1792      \n",
      "_________________________________________________________________\n",
      "block1_conv2 (Conv2D)        (None, None, None, 64)    36928     \n",
      "_________________________________________________________________\n",
      "block1_pool (MaxPooling2D)   (None, None, None, 64)    0         \n",
      "_________________________________________________________________\n",
      "block2_conv1 (Conv2D)        (None, None, None, 128)   73856     \n",
      "_________________________________________________________________\n",
      "block2_conv2 (Conv2D)        (None, None, None, 128)   147584    \n",
      "_________________________________________________________________\n",
      "block2_pool (MaxPooling2D)   (None, None, None, 128)   0         \n",
      "_________________________________________________________________\n",
      "block3_conv1 (Conv2D)        (None, None, None, 256)   295168    \n",
      "_________________________________________________________________\n",
      "block3_conv2 (Conv2D)        (None, None, None, 256)   590080    \n",
      "_________________________________________________________________\n",
      "block3_conv3 (Conv2D)        (None, None, None, 256)   590080    \n",
      "_________________________________________________________________\n",
      "block3_pool (MaxPooling2D)   (None, None, None, 256)   0         \n",
      "_________________________________________________________________\n",
      "block4_conv1 (Conv2D)        (None, None, None, 512)   1180160   \n",
      "_________________________________________________________________\n",
      "block4_conv2 (Conv2D)        (None, None, None, 512)   2359808   \n",
      "_________________________________________________________________\n",
      "block4_conv3 (Conv2D)        (None, None, None, 512)   2359808   \n",
      "_________________________________________________________________\n",
      "block4_pool (MaxPooling2D)   (None, None, None, 512)   0         \n",
      "_________________________________________________________________\n",
      "block5_conv1 (Conv2D)        (None, None, None, 512)   2359808   \n",
      "_________________________________________________________________\n",
      "block5_conv2 (Conv2D)        (None, None, None, 512)   2359808   \n",
      "_________________________________________________________________\n",
      "block5_conv3 (Conv2D)        (None, None, None, 512)   2359808   \n",
      "_________________________________________________________________\n",
      "block5_pool (MaxPooling2D)   (None, None, None, 512)   0         \n",
      "=================================================================\n",
      "Total params: 14,714,688\n",
      "Trainable params: 14,714,688\n",
      "Non-trainable params: 0\n",
      "_________________________________________________________________\n",
      "_________________________________________________________________\n",
      "Layer (type)                 Output Shape              Param #   \n",
      "=================================================================\n",
      "image_input (InputLayer)     (None, 224, 224, 3)       0         \n",
      "_________________________________________________________________\n",
      "vgg16 (Model)                multiple                  14714688  \n",
      "_________________________________________________________________\n",
      "flatten (Flatten)            (None, 25088)             0         \n",
      "_________________________________________________________________\n",
      "fc1 (Dense)                  (None, 4096)              102764544 \n",
      "_________________________________________________________________\n",
      "fc2 (Dense)                  (None, 4096)              16781312  \n",
      "_________________________________________________________________\n",
      "predictions (Dense)          (None, 7)                 28679     \n",
      "=================================================================\n",
      "Total params: 134,289,223\n",
      "Trainable params: 134,289,223\n",
      "Non-trainable params: 0\n",
      "_________________________________________________________________\n"
     ]
    },
    {
     "name": "stderr",
     "output_type": "stream",
     "text": [
      "/usr/local/lib/python3.6/site-packages/ipykernel_launcher.py:25: UserWarning: Update your `Model` call to the Keras 2 API: `Model(inputs=Tensor(\"im..., outputs=Tensor(\"pr...)`\n"
     ]
    }
   ],
   "source": [
    "from keras.applications.vgg16 import VGG16\n",
    "from keras.preprocessing import image\n",
    "from keras.applications.vgg16 import preprocess_input\n",
    "from keras.layers import Input, Flatten, Dense\n",
    "from keras.models import Model\n",
    "import numpy as np\n",
    "\n",
    "#Get back the convolutional part of a VGG network trained on ImageNet\n",
    "model_vgg16_conv = VGG16(weights='imagenet', include_top=False)\n",
    "model_vgg16_conv.summary()\n",
    "\n",
    "#Create your own input format (here 3x200x200)\n",
    "input = Input(shape=(224,224,3),name = 'image_input')\n",
    "\n",
    "#Use the generated model \n",
    "output_vgg16_conv = model_vgg16_conv(input)\n",
    "\n",
    "#Add the fully-connected layers \n",
    "x = Flatten(name='flatten')(output_vgg16_conv)\n",
    "x = Dense(4096, activation='relu', name='fc1')(x)\n",
    "x = Dense(4096, activation='relu', name='fc2')(x)\n",
    "x = Dense(7, activation='softmax', name='predictions')(x)\n",
    "\n",
    "#Create your own model \n",
    "my_model = Model(input=input, output=x)\n",
    "\n",
    "#In the summary, weights and layers from VGG part will be hidden, but they will be fit during the training\n",
    "my_model.summary()\n",
    "\n",
    "\n",
    "#Then training with your data ! "
   ]
  },
  {
   "cell_type": "code",
   "execution_count": 11,
   "metadata": {},
   "outputs": [
    {
     "name": "stderr",
     "output_type": "stream",
     "text": [
      "/usr/local/lib/python3.6/site-packages/keras/callbacks.py:928: UserWarning: `epsilon` argument is deprecated and will be removed, use `min_delta` insted.\n",
      "  warnings.warn('`epsilon` argument is deprecated and '\n"
     ]
    }
   ],
   "source": [
    "from keras.optimizers import SGD\n",
    "\n",
    "my_model.compile(loss = \"categorical_crossentropy\", \n",
    "                    optimizer = SGD(lr=1e-5, momentum=0.9), \n",
    "                    metrics=[\"categorical_accuracy\"])\n",
    "#Agregado por mi\n",
    "from keras.callbacks import ModelCheckpoint, LearningRateScheduler, EarlyStopping, ReduceLROnPlateau\n",
    "weight_path=\"{}_weights.best.hdf5\".format('mammo_result')\n",
    "checkpoint = ModelCheckpoint(weight_path, monitor='val_loss', verbose=1, \n",
    "                             save_best_only=True, mode='min', save_weights_only = True)\n",
    "\n",
    "\n",
    "reduceLROnPlat = ReduceLROnPlateau(monitor='val_loss', factor=0.8, patience=10, verbose=1, mode='auto', min_delta=0.0001, cooldown=5, min_lr=0.0001)\n",
    "early = EarlyStopping(monitor=\"val_loss\", \n",
    "                      mode=\"min\", \n",
    "                      patience=5) # probably needs to be more patient, but kaggle time is limited\n",
    "callbacks_list = [checkpoint, early, reduceLROnPlat]"
   ]
  },
  {
   "cell_type": "code",
   "execution_count": 17,
   "metadata": {},
   "outputs": [
    {
     "name": "stdout",
     "output_type": "stream",
     "text": [
      "Epoch 1/20\n",
      "35/35 [==============================] - 32s 909ms/step - loss: 0.4063 - categorical_accuracy: 0.8730 - val_loss: 2.9119 - val_categorical_accuracy: 0.1807\n",
      "\n",
      "Epoch 00001: val_loss did not improve from 2.15293\n",
      "Epoch 2/20\n",
      "35/35 [==============================] - 32s 900ms/step - loss: 0.3998 - categorical_accuracy: 0.8811 - val_loss: 2.1659 - val_categorical_accuracy: 0.3855\n",
      "\n",
      "Epoch 00002: val_loss did not improve from 2.15293\n",
      "Epoch 3/20\n",
      "35/35 [==============================] - 32s 901ms/step - loss: 0.3534 - categorical_accuracy: 0.8873 - val_loss: 2.4306 - val_categorical_accuracy: 0.3012\n",
      "\n",
      "Epoch 00003: val_loss did not improve from 2.15293\n",
      "Epoch 4/20\n",
      "35/35 [==============================] - 32s 901ms/step - loss: 0.3381 - categorical_accuracy: 0.9011 - val_loss: 2.7751 - val_categorical_accuracy: 0.2651\n",
      "\n",
      "Epoch 00004: val_loss did not improve from 2.15293\n",
      "Epoch 5/20\n",
      "35/35 [==============================] - 32s 907ms/step - loss: 0.3438 - categorical_accuracy: 0.8937 - val_loss: 2.1232 - val_categorical_accuracy: 0.3494\n",
      "\n",
      "Epoch 00005: val_loss improved from 2.15293 to 2.12321, saving model to mammo_result_weights.best.hdf5\n",
      "Epoch 6/20\n",
      "35/35 [==============================] - 32s 907ms/step - loss: 0.2905 - categorical_accuracy: 0.9125 - val_loss: 1.9919 - val_categorical_accuracy: 0.3373\n",
      "\n",
      "Epoch 00006: val_loss improved from 2.12321 to 1.99187, saving model to mammo_result_weights.best.hdf5\n",
      "Epoch 7/20\n",
      "35/35 [==============================] - 32s 904ms/step - loss: 0.2905 - categorical_accuracy: 0.9134 - val_loss: 2.4314 - val_categorical_accuracy: 0.2771\n",
      "\n",
      "Epoch 00007: val_loss did not improve from 1.99187\n",
      "Epoch 8/20\n",
      "35/35 [==============================] - 32s 902ms/step - loss: 0.2983 - categorical_accuracy: 0.9105 - val_loss: 2.5129 - val_categorical_accuracy: 0.3494\n",
      "\n",
      "Epoch 00008: val_loss did not improve from 1.99187\n",
      "Epoch 9/20\n",
      "35/35 [==============================] - 32s 903ms/step - loss: 0.2454 - categorical_accuracy: 0.9343 - val_loss: 2.4158 - val_categorical_accuracy: 0.3133\n",
      "\n",
      "Epoch 00009: val_loss did not improve from 1.99187\n",
      "Epoch 10/20\n",
      "35/35 [==============================] - 32s 905ms/step - loss: 0.2583 - categorical_accuracy: 0.9166 - val_loss: 2.3201 - val_categorical_accuracy: 0.3976\n",
      "\n",
      "Epoch 00010: val_loss did not improve from 1.99187\n",
      "Epoch 11/20\n",
      "35/35 [==============================] - 32s 902ms/step - loss: 0.2119 - categorical_accuracy: 0.9419 - val_loss: 2.2139 - val_categorical_accuracy: 0.3855\n",
      "\n",
      "Epoch 00011: val_loss did not improve from 1.99187\n"
     ]
    }
   ],
   "source": [
    "my_model.load_weights('mammo_result_weights.best.hdf5')\n",
    "history = my_model.fit_generator(train_gen, \n",
    "                                  steps_per_epoch = 35,\n",
    "                                  validation_data = (valid_gen), \n",
    "                                  epochs = 20, \n",
    "                                  callbacks = callbacks_list)"
   ]
  },
  {
   "cell_type": "code",
   "execution_count": 18,
   "metadata": {},
   "outputs": [
    {
     "data": {
      "image/png": "[encoded data removed]",
      "text/plain": [
       "<Figure size 432x288 with 2 Axes>"
      ]
     },
     "metadata": {},
     "output_type": "display_data"
    }
   ],
   "source": [
    "fig, ax = plt.subplots(2,1)\n",
    "ax[0].plot(history.history['loss'], color='b', label=\"Training loss\")\n",
    "ax[0].plot(history.history['val_loss'], color='r', label=\"validation loss\",axes =ax[0])\n",
    "legend = ax[0].legend(loc='best', shadow=True)\n",
    "\n",
    "ax[1].plot(history.history['categorical_accuracy'], color='b', label=\"Training accuracy\")\n",
    "ax[1].plot(history.history['val_categorical_accuracy'], color='r',label=\"Validation accuracy\")\n",
    "legend = ax[1].legend(loc='best', shadow=True)\n",
    "plt.show()"
   ]
  },
  {
   "cell_type": "code",
   "execution_count": 19,
   "metadata": {},
   "outputs": [
    {
     "name": "stdout",
     "output_type": "stream",
     "text": [
      "83/83 [==============================] - 1s 9ms/step\n"
     ]
    }
   ],
   "source": [
    "pred_Y = my_model.predict(test_X, batch_size = 32, verbose = True)\n",
    "pred_Y_cat = np.argmax(pred_Y,-1)\n",
    "test_Y_cat = np.argmax(test_Y, -1)"
   ]
  },
  {
   "cell_type": "code",
   "execution_count": 20,
   "metadata": {},
   "outputs": [
    {
     "name": "stdout",
     "output_type": "stream",
     "text": [
      "             precision    recall  f1-score   support\n",
      "\n",
      "       ARCH       0.00      0.00      0.00         5\n",
      "       ASYM       0.00      0.00      0.00         3\n",
      "       CALC       0.32      0.75      0.44         8\n",
      "       CIRC       0.20      0.33      0.25         6\n",
      "       MISC       0.14      0.25      0.18         4\n",
      "       NORM       0.86      0.48      0.62        52\n",
      "       SPIC       0.50      0.40      0.44         5\n",
      "\n",
      "avg / total       0.62      0.43      0.48        83\n",
      "\n"
     ]
    },
    {
     "data": {
      "image/png": "[encoded data removed]",
      "text/plain": [
       "<Figure size 288x288 with 1 Axes>"
      ]
     },
     "metadata": {},
     "output_type": "display_data"
    }
   ],
   "source": [
    "from sklearn.metrics import classification_report, confusion_matrix\n",
    "plt.matshow(confusion_matrix(test_Y_cat, pred_Y_cat))\n",
    "print(classification_report(test_Y_cat, pred_Y_cat, target_names = class_enc.classes_))"
   ]
  },
  {
   "cell_type": "code",
   "execution_count": null,
   "metadata": {},
   "outputs": [],
   "source": []
  }
 ],
 "metadata": {
  "kernelspec": {
   "display_name": "Python 3",
   "language": "python",
   "name": "python3"
  },
  "language_info": {
   "codemirror_mode": {
    "name": "ipython",
    "version": 3
   },
   "file_extension": ".py",
   "mimetype": "text/x-python",
   "name": "python",
   "nbconvert_exporter": "python",
   "pygments_lexer": "ipython3",
   "version": "3.5.3"
  },
  "widgets": {
   "application/vnd.jupyter.widget-state+json": {
    "state": {},
    "version_major": 2,
    "version_minor": 0
   }
  }
 },
 "nbformat": 4,
 "nbformat_minor": 2
}
